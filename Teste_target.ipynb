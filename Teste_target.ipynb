{
 "cells": [
  {
   "cell_type": "markdown",
   "metadata": {},
   "source": [
    "# TESTE ESTÁGIO START"
   ]
  },
  {
   "cell_type": "code",
   "execution_count": 46,
   "metadata": {},
   "outputs": [],
   "source": [
    "import pandas as pd\n"
   ]
  },
  {
   "cell_type": "markdown",
   "metadata": {},
   "source": [
    "Questão 1"
   ]
  },
  {
   "cell_type": "code",
   "execution_count": 5,
   "metadata": {},
   "outputs": [
    {
     "name": "stdout",
     "output_type": "stream",
     "text": [
      "91\n"
     ]
    }
   ],
   "source": [
    "indice = 13\n",
    "soma = 0\n",
    "K = 0\n",
    "soma = sum(K for K in range(1, INDICE + 1))\n",
    "print(soma)"
   ]
  },
  {
   "cell_type": "markdown",
   "metadata": {},
   "source": [
    "questão 2"
   ]
  },
  {
   "cell_type": "code",
   "execution_count": 11,
   "metadata": {},
   "outputs": [
    {
     "name": "stdout",
     "output_type": "stream",
     "text": [
      "O número 9 não pertence à sequência de Fibonacci.\n"
     ]
    }
   ],
   "source": [
    "def fibonacci(n):\n",
    "    fseq = [0, 1] \n",
    "    while True:\n",
    "        valor = fseq[-1] + fseq[-2]\n",
    "        if valor > n: \n",
    "            break\n",
    "        fseq.append(valor)\n",
    "    return fseq\n",
    "\n",
    "def verificar(num):\n",
    "    fib_sequence = fibonacci(num)\n",
    "    if num in fib_sequence:\n",
    "        return f\"O número {num} está na sequência de Fibonacci.\"\n",
    "    else:\n",
    "        return f\"O número {num} não está na sequência de Fibonacci.\"\n",
    "\n",
    "numero = 9\n",
    "resultado = verificar(numero)\n",
    "print(resultado)"
   ]
  },
  {
   "cell_type": "markdown",
   "metadata": {},
   "source": [
    "Questão 3"
   ]
  },
  {
   "cell_type": "code",
   "execution_count": null,
   "metadata": {},
   "outputs": [],
   "source": [
    "questao = pd.read_json(\"C:/Users/ZÉ/Downloads/dados.json\")\n",
    "questao"
   ]
  },
  {
   "cell_type": "code",
   "execution_count": null,
   "metadata": {},
   "outputs": [],
   "source": [
    "#Aqui excluí os valores zerados pois as questões pedem valores de maior e menor faturamentos. \n",
    "questao_not0 = questao[questao['valor'] > 0]\n",
    "questao_not0"
   ]
  },
  {
   "cell_type": "code",
   "execution_count": 27,
   "metadata": {},
   "outputs": [
    {
     "name": "stdout",
     "output_type": "stream",
     "text": [
      "Maior valor: 48924.2448 no dia: 16\n",
      "Menor valor: 373.7838 no dia: 14\n"
     ]
    }
   ],
   "source": [
    "maior_valor = questao_not0['valor'].max()\n",
    "dia_maior_valor = questao_not0[questao_not0['valor'] == maior_valor]['dia'].values[0]\n",
    "\n",
    "menor_valor = questao_not0['valor'].min()\n",
    "dia_menor_valor = questao_not0[questao_not0['valor'] == menor_valor]['dia'].values[0]\n",
    "\n",
    "print(f\"Maior valor: {maior_valor} no dia: {dia_maior_valor}\")\n",
    "print(f\"Menor valor: {menor_valor} no dia: {dia_menor_valor}\")"
   ]
  },
  {
   "cell_type": "code",
   "execution_count": 32,
   "metadata": {},
   "outputs": [
    {
     "data": {
      "text/plain": [
       "20865.370166666664"
      ]
     },
     "execution_count": 32,
     "metadata": {},
     "output_type": "execute_result"
    }
   ],
   "source": [
    "media_mensal = questao_not0['valor'].mean()\n",
    "media_mensal"
   ]
  },
  {
   "cell_type": "code",
   "execution_count": null,
   "metadata": {},
   "outputs": [],
   "source": [
    "maiores_media = questao_not0[questao_not0['valor'] > media_mensal][['dia', 'valor']]\n",
    "maiores_media"
   ]
  },
  {
   "cell_type": "markdown",
   "metadata": {},
   "source": [
    "Questão 4"
   ]
  },
  {
   "cell_type": "code",
   "execution_count": 39,
   "metadata": {},
   "outputs": [
    {
     "name": "stdout",
     "output_type": "stream",
     "text": [
      "Percentual de representação por estado:\n",
      "SP: 37.53%\n",
      "RJ: 20.29%\n",
      "MG: 16.17%\n",
      "ES: 15.03%\n",
      "Outros: 10.98%\n"
     ]
    }
   ],
   "source": [
    "faturamento = {\n",
    "    'SP': 67836.43,\n",
    "    'RJ': 36678.66,\n",
    "    'MG': 29229.88,\n",
    "    'ES': 27165.48,\n",
    "    'Outros': 19849.53\n",
    "}\n",
    "\n",
    "faturamento_total = sum(faturamento.values())\n",
    "\n",
    "percentuais = {estado: (valor / faturamento_total) * 100 for estado, valor in faturamento.items()}\n",
    "\n",
    "\n",
    "print(\"Percentual de representação por estado:\")\n",
    "for estado, percentual in percentuais.items():\n",
    "    print(f\"{estado}: {percentual:.2f}%\")"
   ]
  },
  {
   "cell_type": "markdown",
   "metadata": {},
   "source": [
    "Questão 5"
   ]
  },
  {
   "cell_type": "code",
   "execution_count": 49,
   "metadata": {},
   "outputs": [
    {
     "name": "stdout",
     "output_type": "stream",
     "text": [
      "String invertida: tegrat\n"
     ]
    }
   ],
   "source": [
    "string = 'target'\n",
    "\n",
    "string_invertida = \"\"\n",
    "\n",
    "for i in range(len(string) - 1, -1, -1):\n",
    "    string_invertida += string[i]\n",
    "\n",
    "print(\"String invertida:\", string_invertida)"
   ]
  }
 ],
 "metadata": {
  "kernelspec": {
   "display_name": "Python 3",
   "language": "python",
   "name": "python3"
  },
  "language_info": {
   "codemirror_mode": {
    "name": "ipython",
    "version": 3
   },
   "file_extension": ".py",
   "mimetype": "text/x-python",
   "name": "python",
   "nbconvert_exporter": "python",
   "pygments_lexer": "ipython3",
   "version": "3.10.4"
  }
 },
 "nbformat": 4,
 "nbformat_minor": 2
}
